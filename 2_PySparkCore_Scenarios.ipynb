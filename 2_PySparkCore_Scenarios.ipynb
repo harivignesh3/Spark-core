{
 "cells": [
  {
   "cell_type": "markdown",
   "metadata": {
    "application/vnd.databricks.v1+cell": {
     "cellMetadata": {},
     "inputWidgets": {},
     "nuid": "bc5aecca-f3cf-4a80-9155-0f7a8e6f9cda",
     "showTitle": false,
     "title": ""
    }
   },
   "source": [
    "###### 1. Enable the DBFS File Browser (Top right Login -> Settings -> Advanced -> DBFS File Browser (Enable or disable DBFS File Browser))"
   ]
  },
  {
   "cell_type": "code",
   "execution_count": 0,
   "metadata": {
    "application/vnd.databricks.v1+cell": {
     "cellMetadata": {},
     "inputWidgets": {},
     "nuid": "85569d8d-ab1c-4ecf-ac74-86af824c0de4",
     "showTitle": false,
     "title": ""
    }
   },
   "outputs": [],
   "source": [
    "#Done"
   ]
  },
  {
   "cell_type": "markdown",
   "metadata": {
    "application/vnd.databricks.v1+cell": {
     "cellMetadata": {},
     "inputWidgets": {},
     "nuid": "0d0473cd-c6d8-410b-907a-398aea1c44e7",
     "showTitle": false,
     "title": ""
    }
   },
   "source": [
    "###### 2. Upload the given file youtube_videos.tsv into the dbfs location by browsing (catalog -> browse DBFS -> /FileStore/datafiles/)"
   ]
  },
  {
   "cell_type": "code",
   "execution_count": 0,
   "metadata": {
    "application/vnd.databricks.v1+cell": {
     "cellMetadata": {},
     "inputWidgets": {},
     "nuid": "880185fe-445b-4488-9d45-b5fc489e3eec",
     "showTitle": false,
     "title": ""
    }
   },
   "outputs": [],
   "source": [
    "#dummy"
   ]
  },
  {
   "cell_type": "markdown",
   "metadata": {
    "application/vnd.databricks.v1+cell": {
     "cellMetadata": {},
     "inputWidgets": {},
     "nuid": "e12b410f-1118-4e98-b9db-9edd222fbb0c",
     "showTitle": false,
     "title": ""
    }
   },
   "source": [
    "###### 3. Create an RDD dbfs_rdd to read the above data"
   ]
  },
  {
   "cell_type": "code",
   "execution_count": 0,
   "metadata": {
    "application/vnd.databricks.v1+cell": {
     "cellMetadata": {
      "byteLimit": 2048000,
      "rowLimit": 10000
     },
     "inputWidgets": {},
     "nuid": "0dc9efc8-2dbc-430f-83d4-45344a1621f6",
     "showTitle": false,
     "title": ""
    }
   },
   "outputs": [
    {
     "output_type": "stream",
     "name": "stdout",
     "output_type": "stream",
     "text": [
      "Out[3]: ['id\\tduration\\tbitrate\\tbitrate(video)\\theight\\twidth\\tframe rate\\tframe rate(est.)\\tcodec\\tcategory\\turl',\n 'uDNj-_5ty48\\t267\\t373\\t274\\t568\\t320\\t29.97\\t0\\th264\\tMusic\\thttp://r2---sn-ovgq0oxu-5goe.c.youtube.com/videoplayback?algorithm=throttle-factor&burst=40&ipbits=8&sparams=algorithm%2Cburst%2Ccp%2Cfactor%2Cid%2Cip%2Cipbits%2Citag%2Csource%2Cupn%2Cexpire&mv=m&source=youtube&ip=86.50.94.176&ms=au&fexp=931311%2C916903%2C916713%2C916612%2C919515%2C913818%2C923434%2C916914%2C929117%2C929121%2C929906%2C929907%2C929922%2C929127%2C929129%2C929131%2C929930%2C936403%2C925726%2C925720%2C925722%2C925718%2C929917%2C906945%2C929933%2C920302%2C906842%2C913428%2C920605%2C919811%2C913563%2C904830%2C919373%2C930803%2C904122%2C932211%2C938701%2C936308%2C909549%2C900816%2C912711%2C904494%2C904497%2C900375%2C906001&mt=1377888632&sver=3&itag=34&id=b83363fbfe6dcb8f&cp=U0hWTFlMUF9ITENONl9RRlRDOkd1MHNTdkJ0bmJX&upn=NcwR8nokhFc&expire=1377912232&key=yt1&factor=1.25&signature=7FFB8DF0BFB451937740F4C5F8C3EFF502C46CFE.A6F49E3816C0D9385EAC7D9A313A79C0E1B489A6&ratebypass=yes',\n 'uDNj-_5ty48\\t267\\t512\\t396\\t480\\t270\\t29.97\\t29.97\\th264\\tMusic\\thttp://r2---sn-ovgq0oxu-5goe.c.youtube.com/videoplayback?ipbits=8&sparams=cp%2Cid%2Cip%2Cipbits%2Citag%2Cratebypass%2Csource%2Cupn%2Cexpire&mv=m&ip=86.50.94.176&source=youtube&ms=au&fexp=931311%2C916903%2C916713%2C916612%2C919515%2C913818%2C923434%2C916914%2C929117%2C929121%2C929906%2C929907%2C929922%2C929127%2C929129%2C929131%2C929930%2C936403%2C925726%2C925720%2C925722%2C925718%2C929917%2C906945%2C929933%2C920302%2C906842%2C913428%2C920605%2C919811%2C913563%2C904830%2C919373%2C930803%2C904122%2C932211%2C938701%2C936308%2C909549%2C900816%2C912711%2C904494%2C904497%2C900375%2C906001&ratebypass=yes&mt=1377888632&sver=3&itag=18&id=b83363fbfe6dcb8f&expire=1377912232&upn=NcwR8nokhFc&key=yt1&cp=U0hWTFlMUF9ITENONl9RRlRDOkd1MHNTdkJ0bmJX&signature=187482B3F497A03D2FA9E03FF0D540C9801DF2E5.88F8505D8378874858DE9712197A6E7876F2E708',\n 'uDNj-_5ty48\\t267\\t324\\t263\\t400\\t226\\t29.97\\t29.97\\tflv1\\tMusic\\thttp://r2---sn-ovgq0oxu-5goe.c.youtube.com/videoplayback?algorithm=throttle-factor&burst=40&ipbits=8&sparams=algorithm%2Cburst%2Ccp%2Cfactor%2Cid%2Cip%2Cipbits%2Citag%2Csource%2Cupn%2Cexpire&mv=m&source=youtube&ip=86.50.94.176&ms=au&fexp=931311%2C916903%2C916713%2C916612%2C919515%2C913818%2C923434%2C916914%2C929117%2C929121%2C929906%2C929907%2C929922%2C929127%2C929129%2C929131%2C929930%2C936403%2C925726%2C925720%2C925722%2C925718%2C929917%2C906945%2C929933%2C920302%2C906842%2C913428%2C920605%2C919811%2C913563%2C904830%2C919373%2C930803%2C904122%2C932211%2C938701%2C936308%2C909549%2C900816%2C912711%2C904494%2C904497%2C900375%2C906001&mt=1377888632&sver=3&itag=5&id=b83363fbfe6dcb8f&cp=U0hWTFlMUF9ITENONl9RRlRDOkd1MHNTdkJ0bmJX&upn=NcwR8nokhFc&expire=1377912232&key=yt1&factor=1.25&signature=1C228BC2BE95DA7489A4C417310CD0BB66A7D524.4CCC6F5FFB5267FC91AEB60B0ED5086C2F87B7F3&ratebypass=yes']"
     ]
    }
   ],
   "source": [
    "from pyspark.sql import SparkSession\n",
    "# Create a SparkSession\n",
    "spark = SparkSession.builder.master(\"local[*]\").appName(\"Application_1\").enableHiveSupport().getOrCreate()\n",
    "# Get the SparkContext from the SparkSession\n",
    "sc = spark.sparkContext\n",
    "# Read data into an RDD\n",
    "dbfs_rdd=sc.textFile(\"dbfs:/FileStore/Hari/youtube_videos.tsv\")\n",
    "dbfs_rdd.take(4)"
   ]
  },
  {
   "cell_type": "markdown",
   "metadata": {
    "application/vnd.databricks.v1+cell": {
     "cellMetadata": {},
     "inputWidgets": {},
     "nuid": "2d446966-0c56-409a-9350-853332d12173",
     "showTitle": false,
     "title": ""
    }
   },
   "source": [
    "###### 4. Split the rows using tab (\"\\t\") delimiter"
   ]
  },
  {
   "cell_type": "code",
   "execution_count": 0,
   "metadata": {
    "application/vnd.databricks.v1+cell": {
     "cellMetadata": {
      "byteLimit": 2048000,
      "rowLimit": 10000
     },
     "inputWidgets": {},
     "nuid": "88fa2262-b692-4f91-8e70-bb0e788a94c3",
     "showTitle": false,
     "title": ""
    }
   },
   "outputs": [
    {
     "output_type": "stream",
     "name": "stdout",
     "output_type": "stream",
     "text": [
      "Out[4]: [['id',\n  'duration',\n  'bitrate',\n  'bitrate(video)',\n  'height',\n  'width',\n  'frame rate',\n  'frame rate(est.)',\n  'codec',\n  'category',\n  'url']]"
     ]
    }
   ],
   "source": [
    "rdd1=dbfs_rdd.map(lambda x:x.split(\"\\t\"))\n",
    "rdd1.take(1)"
   ]
  },
  {
   "cell_type": "markdown",
   "metadata": {
    "application/vnd.databricks.v1+cell": {
     "cellMetadata": {},
     "inputWidgets": {},
     "nuid": "b7a30384-f3bf-4df2-965c-907c2c115a3c",
     "showTitle": false,
     "title": ""
    }
   },
   "source": [
    "###### 5. Remove the header record by filtering the first column value does not contains \"id\" into an rdd split_rdd or try using take/first/zipWithIndex function to remove the header"
   ]
  },
  {
   "cell_type": "code",
   "execution_count": 0,
   "metadata": {
    "application/vnd.databricks.v1+cell": {
     "cellMetadata": {
      "byteLimit": 2048000,
      "rowLimit": 10000
     },
     "inputWidgets": {},
     "nuid": "348231f7-bed3-436a-815c-c1707aa2ad75",
     "showTitle": false,
     "title": ""
    }
   },
   "outputs": [
    {
     "output_type": "stream",
     "name": "stdout",
     "output_type": "stream",
     "text": [
      "Out[5]: (['uDNj-_5ty48',\n  '267',\n  '373',\n  '274',\n  '568',\n  '320',\n  '29.97',\n  '0',\n  'h264',\n  'Music',\n  'http://r2---sn-ovgq0oxu-5goe.c.youtube.com/videoplayback?algorithm=throttle-factor&burst=40&ipbits=8&sparams=algorithm%2Cburst%2Ccp%2Cfactor%2Cid%2Cip%2Cipbits%2Citag%2Csource%2Cupn%2Cexpire&mv=m&source=youtube&ip=86.50.94.176&ms=au&fexp=931311%2C916903%2C916713%2C916612%2C919515%2C913818%2C923434%2C916914%2C929117%2C929121%2C929906%2C929907%2C929922%2C929127%2C929129%2C929131%2C929930%2C936403%2C925726%2C925720%2C925722%2C925718%2C929917%2C906945%2C929933%2C920302%2C906842%2C913428%2C920605%2C919811%2C913563%2C904830%2C919373%2C930803%2C904122%2C932211%2C938701%2C936308%2C909549%2C900816%2C912711%2C904494%2C904497%2C900375%2C906001&mt=1377888632&sver=3&itag=34&id=b83363fbfe6dcb8f&cp=U0hWTFlMUF9ITENONl9RRlRDOkd1MHNTdkJ0bmJX&upn=NcwR8nokhFc&expire=1377912232&key=yt1&factor=1.25&signature=7FFB8DF0BFB451937740F4C5F8C3EFF502C46CFE.A6F49E3816C0D9385EAC7D9A313A79C0E1B489A6&ratebypass=yes'],\n 1)"
     ]
    }
   ],
   "source": [
    "#rdd1=dbfs_rdd.map(lambda x:x.split(\"\\t\"))\n",
    "split_rdd=rdd1.zipWithIndex().filter(lambda x:x[1]>0) #rdd1 is in a form of list of strings\n",
    "#zipwithIndex returns the value in a form of tuple with key value pair. Eg: zipWithIndex(x,y,z) it returns [(x,0),(y,1),(z,2)]\n",
    "#now we are filtering using the index value greater than 0. so we get the value from y \n",
    "split_rdd.first()"
   ]
  },
  {
   "cell_type": "markdown",
   "metadata": {
    "application/vnd.databricks.v1+cell": {
     "cellMetadata": {},
     "inputWidgets": {},
     "nuid": "246c10f4-0280-4d3b-9c83-1425130029d6",
     "showTitle": false,
     "title": ""
    }
   },
   "source": [
    "###### 6. cache the split_rdd"
   ]
  },
  {
   "cell_type": "code",
   "execution_count": 0,
   "metadata": {
    "application/vnd.databricks.v1+cell": {
     "cellMetadata": {
      "byteLimit": 2048000,
      "rowLimit": 10000
     },
     "inputWidgets": {},
     "nuid": "cf84b48f-63df-4eac-91af-90fd65defa07",
     "showTitle": false,
     "title": ""
    }
   },
   "outputs": [
    {
     "output_type": "stream",
     "name": "stdout",
     "output_type": "stream",
     "text": [
      "Out[6]: PythonRDD[7] at RDD at PythonRDD.scala:58"
     ]
    }
   ],
   "source": [
    "split_rdd=rdd1.zipWithIndex().filter(lambda x:x[1]>0)\n",
    "split_rdd.cache()"
   ]
  },
  {
   "cell_type": "markdown",
   "metadata": {
    "application/vnd.databricks.v1+cell": {
     "cellMetadata": {},
     "inputWidgets": {},
     "nuid": "e03dcad6-2501-4779-b348-27a083718445",
     "showTitle": false,
     "title": ""
    }
   },
   "source": [
    "######7. Display only first 10 rows in the screen from spli_trdd."
   ]
  },
  {
   "cell_type": "code",
   "execution_count": 0,
   "metadata": {
    "application/vnd.databricks.v1+cell": {
     "cellMetadata": {
      "byteLimit": 2048000,
      "rowLimit": 10000
     },
     "inputWidgets": {},
     "nuid": "a31021b4-4416-4272-8c5a-a7dac1257fe1",
     "showTitle": false,
     "title": ""
    }
   },
   "outputs": [
    {
     "output_type": "stream",
     "name": "stdout",
     "output_type": "stream",
     "text": [
      "Out[7]: [(['uDNj-_5ty48',\n   '267',\n   '373',\n   '274',\n   '568',\n   '320',\n   '29.97',\n   '0',\n   'h264',\n   'Music',\n   'http://r2---sn-ovgq0oxu-5goe.c.youtube.com/videoplayback?algorithm=throttle-factor&burst=40&ipbits=8&sparams=algorithm%2Cburst%2Ccp%2Cfactor%2Cid%2Cip%2Cipbits%2Citag%2Csource%2Cupn%2Cexpire&mv=m&source=youtube&ip=86.50.94.176&ms=au&fexp=931311%2C916903%2C916713%2C916612%2C919515%2C913818%2C923434%2C916914%2C929117%2C929121%2C929906%2C929907%2C929922%2C929127%2C929129%2C929131%2C929930%2C936403%2C925726%2C925720%2C925722%2C925718%2C929917%2C906945%2C929933%2C920302%2C906842%2C913428%2C920605%2C919811%2C913563%2C904830%2C919373%2C930803%2C904122%2C932211%2C938701%2C936308%2C909549%2C900816%2C912711%2C904494%2C904497%2C900375%2C906001&mt=1377888632&sver=3&itag=34&id=b83363fbfe6dcb8f&cp=U0hWTFlMUF9ITENONl9RRlRDOkd1MHNTdkJ0bmJX&upn=NcwR8nokhFc&expire=1377912232&key=yt1&factor=1.25&signature=7FFB8DF0BFB451937740F4C5F8C3EFF502C46CFE.A6F49E3816C0D9385EAC7D9A313A79C0E1B489A6&ratebypass=yes'],\n  1),\n (['uDNj-_5ty48',\n   '267',\n   '512',\n   '396',\n   '480',\n   '270',\n   '29.97',\n   '29.97',\n   'h264',\n   'Music',\n   'http://r2---sn-ovgq0oxu-5goe.c.youtube.com/videoplayback?ipbits=8&sparams=cp%2Cid%2Cip%2Cipbits%2Citag%2Cratebypass%2Csource%2Cupn%2Cexpire&mv=m&ip=86.50.94.176&source=youtube&ms=au&fexp=931311%2C916903%2C916713%2C916612%2C919515%2C913818%2C923434%2C916914%2C929117%2C929121%2C929906%2C929907%2C929922%2C929127%2C929129%2C929131%2C929930%2C936403%2C925726%2C925720%2C925722%2C925718%2C929917%2C906945%2C929933%2C920302%2C906842%2C913428%2C920605%2C919811%2C913563%2C904830%2C919373%2C930803%2C904122%2C932211%2C938701%2C936308%2C909549%2C900816%2C912711%2C904494%2C904497%2C900375%2C906001&ratebypass=yes&mt=1377888632&sver=3&itag=18&id=b83363fbfe6dcb8f&expire=1377912232&upn=NcwR8nokhFc&key=yt1&cp=U0hWTFlMUF9ITENONl9RRlRDOkd1MHNTdkJ0bmJX&signature=187482B3F497A03D2FA9E03FF0D540C9801DF2E5.88F8505D8378874858DE9712197A6E7876F2E708'],\n  2),\n (['uDNj-_5ty48',\n   '267',\n   '324',\n   '263',\n   '400',\n   '226',\n   '29.97',\n   '29.97',\n   'flv1',\n   'Music',\n   'http://r2---sn-ovgq0oxu-5goe.c.youtube.com/videoplayback?algorithm=throttle-factor&burst=40&ipbits=8&sparams=algorithm%2Cburst%2Ccp%2Cfactor%2Cid%2Cip%2Cipbits%2Citag%2Csource%2Cupn%2Cexpire&mv=m&source=youtube&ip=86.50.94.176&ms=au&fexp=931311%2C916903%2C916713%2C916612%2C919515%2C913818%2C923434%2C916914%2C929117%2C929121%2C929906%2C929907%2C929922%2C929127%2C929129%2C929131%2C929930%2C936403%2C925726%2C925720%2C925722%2C925718%2C929917%2C906945%2C929933%2C920302%2C906842%2C913428%2C920605%2C919811%2C913563%2C904830%2C919373%2C930803%2C904122%2C932211%2C938701%2C936308%2C909549%2C900816%2C912711%2C904494%2C904497%2C900375%2C906001&mt=1377888632&sver=3&itag=5&id=b83363fbfe6dcb8f&cp=U0hWTFlMUF9ITENONl9RRlRDOkd1MHNTdkJ0bmJX&upn=NcwR8nokhFc&expire=1377912232&key=yt1&factor=1.25&signature=1C228BC2BE95DA7489A4C417310CD0BB66A7D524.4CCC6F5FFB5267FC91AEB60B0ED5086C2F87B7F3&ratebypass=yes'],\n  3),\n (['uDNj-_5ty48',\n   '267',\n   '85',\n   '55',\n   '176',\n   '144',\n   '12',\n   '12',\n   'mpeg4',\n   'Music',\n   'http://r2---sn-ovgq0oxu-5goe.c.youtube.com/videoplayback?algorithm=throttle-factor&burst=40&ipbits=8&sparams=algorithm%2Cburst%2Ccp%2Cfactor%2Cid%2Cip%2Cipbits%2Citag%2Csource%2Cupn%2Cexpire&mv=m&source=youtube&ip=86.50.94.176&ms=au&fexp=931311%2C916903%2C916713%2C916612%2C919515%2C913818%2C923434%2C916914%2C929117%2C929121%2C929906%2C929907%2C929922%2C929127%2C929129%2C929131%2C929930%2C936403%2C925726%2C925720%2C925722%2C925718%2C929917%2C906945%2C929933%2C920302%2C906842%2C913428%2C920605%2C919811%2C913563%2C904830%2C919373%2C930803%2C904122%2C932211%2C938701%2C936308%2C909549%2C900816%2C912711%2C904494%2C904497%2C900375%2C906001&mt=1377888632&sver=3&itag=17&id=b83363fbfe6dcb8f&cp=U0hWTFlMUF9ITENONl9RRlRDOkd1MHNTdkJ0bmJX&upn=NcwR8nokhFc&expire=1377912232&key=yt1&factor=1.25&signature=0F50F4715FFF0412AE945EAA27079543A38E9544.CEDCF478798D04934FFB7C303DD9BAF4AF88DC7F&ratebypass=yes'],\n  4),\n (['WCgt-AactyY',\n   '31',\n   '1261',\n   '1183',\n   '640',\n   '480',\n   '24',\n   '0',\n   'h264',\n   'People & Blogs',\n   'http://r1---sn-ovgq0oxu-5goe.c.youtube.com/videoplayback?itag=35&key=yt1&source=youtube&mv=m&id=58282df8069cb726&ip=86.50.94.176&burst=40&algorithm=throttle-factor&upn=Gv-ALFhUfcU&cp=U0hWTFlLV19JUENONl9RRUFCOjJiMExXU21EUGR1&sparams=algorithm%2Cburst%2Ccp%2Cfactor%2Cid%2Cip%2Cipbits%2Citag%2Csource%2Cupn%2Cexpire&sver=3&ms=au&expire=1377909146&fexp=926404%2C901061%2C916623%2C929117%2C929121%2C929906%2C929907%2C929922%2C929127%2C929129%2C929131%2C929930%2C936403%2C925726%2C925720%2C925722%2C925718%2C929917%2C929933%2C920302%2C927704%2C913428%2C920605%2C919811%2C913563%2C904830%2C919373%2C930803%2C908536%2C904122%2C938701%2C936308%2C909549%2C900816%2C912711%2C904494%2C904497%2C900375%2C906001&mt=1377888632&factor=1.25&ipbits=8&signature=B0DE3B3D9929DCFAB8BCC8203C130B55635B0096.0F04182799945F6E67EB089A07ACDE5C9D0A684B&ratebypass=yes'],\n  5),\n (['WCgt-AactyY',\n   '31',\n   '1166',\n   '1183',\n   '640',\n   '480',\n   '24',\n   '0',\n   'vp8',\n   'People & Blogs',\n   'http://r1---sn-ovgq0oxu-5goe.c.youtube.com/videoplayback?itag=44&sver=3&source=youtube&ratebypass=yes&mv=m&id=58282df8069cb726&ip=86.50.94.176&key=yt1&upn=Gv-ALFhUfcU&cp=U0hWTFlLV19JUENONl9RRUFCOjJiMExXU21EUGR1&sparams=cp%2Cid%2Cip%2Cipbits%2Citag%2Cratebypass%2Csource%2Cupn%2Cexpire&ms=au&expire=1377909146&fexp=926404%2C901061%2C916623%2C929117%2C929121%2C929906%2C929907%2C929922%2C929127%2C929129%2C929131%2C929930%2C936403%2C925726%2C925720%2C925722%2C925718%2C929917%2C929933%2C920302%2C927704%2C913428%2C920605%2C919811%2C913563%2C904830%2C919373%2C930803%2C908536%2C904122%2C938701%2C936308%2C909549%2C900816%2C912711%2C904494%2C904497%2C900375%2C906001&mt=1377888632&ipbits=8&signature=C025D99C20C99274A3EA0416B1311110DF197C36.27104BB19AF711CFF5CE6D1F0FD0427BE5F14192'],\n  6),\n (['WCgt-AactyY',\n   '31',\n   '736',\n   '646',\n   '480',\n   '360',\n   '24',\n   '0',\n   'h264',\n   'People & Blogs',\n   'http://r1---sn-ovgq0oxu-5goe.c.youtube.com/videoplayback?itag=34&key=yt1&source=youtube&mv=m&id=58282df8069cb726&ip=86.50.94.176&burst=40&algorithm=throttle-factor&upn=Gv-ALFhUfcU&cp=U0hWTFlLV19JUENONl9RRUFCOjJiMExXU21EUGR1&sparams=algorithm%2Cburst%2Ccp%2Cfactor%2Cid%2Cip%2Cipbits%2Citag%2Csource%2Cupn%2Cexpire&sver=3&ms=au&expire=1377909146&fexp=926404%2C901061%2C916623%2C929117%2C929121%2C929906%2C929907%2C929922%2C929127%2C929129%2C929131%2C929930%2C936403%2C925726%2C925720%2C925722%2C925718%2C929917%2C929933%2C920302%2C927704%2C913428%2C920605%2C919811%2C913563%2C904830%2C919373%2C930803%2C908536%2C904122%2C938701%2C936308%2C909549%2C900816%2C912711%2C904494%2C904497%2C900375%2C906001&mt=1377888632&factor=1.25&ipbits=8&signature=D315AF86F0E49D4CC92E86FDA43BB5684BD44D8E.5FF2BF6E079B02EDDA5C6A72AE8A8EFDBC6DD6B0&ratebypass=yes'],\n  7),\n (['WCgt-AactyY',\n   '31',\n   '715',\n   '641',\n   '480',\n   '360',\n   '24',\n   '24',\n   'h264',\n   'People & Blogs',\n   'http://r1---sn-ovgq0oxu-5goe.c.youtube.com/videoplayback?itag=18&sver=3&source=youtube&ratebypass=yes&mv=m&id=58282df8069cb726&ip=86.50.94.176&key=yt1&upn=Gv-ALFhUfcU&cp=U0hWTFlLV19JUENONl9RRUFCOjJiMExXU21EUGR1&sparams=cp%2Cid%2Cip%2Cipbits%2Citag%2Cratebypass%2Csource%2Cupn%2Cexpire&ms=au&expire=1377909146&fexp=926404%2C901061%2C916623%2C929117%2C929121%2C929906%2C929907%2C929922%2C929127%2C929129%2C929131%2C929930%2C936403%2C925726%2C925720%2C925722%2C925718%2C929917%2C929933%2C920302%2C927704%2C913428%2C920605%2C919811%2C913563%2C904830%2C919373%2C930803%2C908536%2C904122%2C938701%2C936308%2C909549%2C900816%2C912711%2C904494%2C904497%2C900375%2C906001&mt=1377888632&ipbits=8&signature=C31608DEAA3C77B573FE079D2F7C17CA166B759E.8AF37D9FB1183C3A01ED878CB4B8A3492D6B8860'],\n  8),\n (['WCgt-AactyY',\n   '31',\n   '762',\n   '641',\n   '480',\n   '360',\n   '24',\n   '24',\n   'vp8',\n   'People & Blogs',\n   'http://r1---sn-ovgq0oxu-5goe.c.youtube.com/videoplayback?itag=43&sver=3&source=youtube&ratebypass=yes&mv=m&id=58282df8069cb726&ip=86.50.94.176&key=yt1&upn=Gv-ALFhUfcU&cp=U0hWTFlLV19JUENONl9RRUFCOjJiMExXU21EUGR1&sparams=cp%2Cid%2Cip%2Cipbits%2Citag%2Cratebypass%2Csource%2Cupn%2Cexpire&ms=au&expire=1377909146&fexp=926404%2C901061%2C916623%2C929117%2C929121%2C929906%2C929907%2C929922%2C929127%2C929129%2C929131%2C929930%2C936403%2C925726%2C925720%2C925722%2C925718%2C929917%2C929933%2C920302%2C927704%2C913428%2C920605%2C919811%2C913563%2C904830%2C919373%2C930803%2C908536%2C904122%2C938701%2C936308%2C909549%2C900816%2C912711%2C904494%2C904497%2C900375%2C906001&mt=1377888632&ipbits=8&signature=268B6ABC2950B505D16CBC51DDA3144AC88370E5.89AB16707FAC6470E855BDE389E7774B67EE03A4'],\n  9),\n (['WCgt-AactyY',\n   '31',\n   '370',\n   '305',\n   '320',\n   '240',\n   '24',\n   '24',\n   'flv1',\n   'People & Blogs',\n   'http://r1---sn-ovgq0oxu-5goe.c.youtube.com/videoplayback?itag=5&key=yt1&source=youtube&mv=m&id=58282df8069cb726&ip=86.50.94.176&burst=40&algorithm=throttle-factor&upn=Gv-ALFhUfcU&cp=U0hWTFlLV19JUENONl9RRUFCOjJiMExXU21EUGR1&sparams=algorithm%2Cburst%2Ccp%2Cfactor%2Cid%2Cip%2Cipbits%2Citag%2Csource%2Cupn%2Cexpire&sver=3&ms=au&expire=1377909146&fexp=926404%2C901061%2C916623%2C929117%2C929121%2C929906%2C929907%2C929922%2C929127%2C929129%2C929131%2C929930%2C936403%2C925726%2C925720%2C925722%2C925718%2C929917%2C929933%2C920302%2C927704%2C913428%2C920605%2C919811%2C913563%2C904830%2C919373%2C930803%2C908536%2C904122%2C938701%2C936308%2C909549%2C900816%2C912711%2C904494%2C904497%2C900375%2C906001&mt=1377888632&factor=1.25&ipbits=8&signature=1EDC3122D48D521D97017FF403BAB05678B95CE5.5E94D5D3E457E8133A84C6DBC6E3CF1A5104D9E5&ratebypass=yes'],\n  10)]"
     ]
    }
   ],
   "source": [
    "split_rdd=rdd1.zipWithIndex().filter(lambda x:x[1]>0)\n",
    "split_rdd.take(10)"
   ]
  },
  {
   "cell_type": "markdown",
   "metadata": {
    "application/vnd.databricks.v1+cell": {
     "cellMetadata": {},
     "inputWidgets": {},
     "nuid": "0a391a69-1846-4c0c-a718-6db4035d431c",
     "showTitle": false,
     "title": ""
    }
   },
   "source": [
    "######8. Filter only Music category data from split_rdd into an rdd called music_rdd"
   ]
  },
  {
   "cell_type": "code",
   "execution_count": 0,
   "metadata": {
    "application/vnd.databricks.v1+cell": {
     "cellMetadata": {
      "byteLimit": 2048000,
      "rowLimit": 10000
     },
     "inputWidgets": {},
     "nuid": "93c66d23-b222-4a04-a0b2-6254e1b1a2ef",
     "showTitle": false,
     "title": ""
    }
   },
   "outputs": [
    {
     "output_type": "stream",
     "name": "stdout",
     "output_type": "stream",
     "text": [
      "Out[8]: [(['uDNj-_5ty48',\n   '267',\n   '373',\n   '274',\n   '568',\n   '320',\n   '29.97',\n   '0',\n   'h264',\n   'Music',\n   'http://r2---sn-ovgq0oxu-5goe.c.youtube.com/videoplayback?algorithm=throttle-factor&burst=40&ipbits=8&sparams=algorithm%2Cburst%2Ccp%2Cfactor%2Cid%2Cip%2Cipbits%2Citag%2Csource%2Cupn%2Cexpire&mv=m&source=youtube&ip=86.50.94.176&ms=au&fexp=931311%2C916903%2C916713%2C916612%2C919515%2C913818%2C923434%2C916914%2C929117%2C929121%2C929906%2C929907%2C929922%2C929127%2C929129%2C929131%2C929930%2C936403%2C925726%2C925720%2C925722%2C925718%2C929917%2C906945%2C929933%2C920302%2C906842%2C913428%2C920605%2C919811%2C913563%2C904830%2C919373%2C930803%2C904122%2C932211%2C938701%2C936308%2C909549%2C900816%2C912711%2C904494%2C904497%2C900375%2C906001&mt=1377888632&sver=3&itag=34&id=b83363fbfe6dcb8f&cp=U0hWTFlMUF9ITENONl9RRlRDOkd1MHNTdkJ0bmJX&upn=NcwR8nokhFc&expire=1377912232&key=yt1&factor=1.25&signature=7FFB8DF0BFB451937740F4C5F8C3EFF502C46CFE.A6F49E3816C0D9385EAC7D9A313A79C0E1B489A6&ratebypass=yes'],\n  1),\n (['uDNj-_5ty48',\n   '267',\n   '512',\n   '396',\n   '480',\n   '270',\n   '29.97',\n   '29.97',\n   'h264',\n   'Music',\n   'http://r2---sn-ovgq0oxu-5goe.c.youtube.com/videoplayback?ipbits=8&sparams=cp%2Cid%2Cip%2Cipbits%2Citag%2Cratebypass%2Csource%2Cupn%2Cexpire&mv=m&ip=86.50.94.176&source=youtube&ms=au&fexp=931311%2C916903%2C916713%2C916612%2C919515%2C913818%2C923434%2C916914%2C929117%2C929121%2C929906%2C929907%2C929922%2C929127%2C929129%2C929131%2C929930%2C936403%2C925726%2C925720%2C925722%2C925718%2C929917%2C906945%2C929933%2C920302%2C906842%2C913428%2C920605%2C919811%2C913563%2C904830%2C919373%2C930803%2C904122%2C932211%2C938701%2C936308%2C909549%2C900816%2C912711%2C904494%2C904497%2C900375%2C906001&ratebypass=yes&mt=1377888632&sver=3&itag=18&id=b83363fbfe6dcb8f&expire=1377912232&upn=NcwR8nokhFc&key=yt1&cp=U0hWTFlMUF9ITENONl9RRlRDOkd1MHNTdkJ0bmJX&signature=187482B3F497A03D2FA9E03FF0D540C9801DF2E5.88F8505D8378874858DE9712197A6E7876F2E708'],\n  2),\n (['uDNj-_5ty48',\n   '267',\n   '324',\n   '263',\n   '400',\n   '226',\n   '29.97',\n   '29.97',\n   'flv1',\n   'Music',\n   'http://r2---sn-ovgq0oxu-5goe.c.youtube.com/videoplayback?algorithm=throttle-factor&burst=40&ipbits=8&sparams=algorithm%2Cburst%2Ccp%2Cfactor%2Cid%2Cip%2Cipbits%2Citag%2Csource%2Cupn%2Cexpire&mv=m&source=youtube&ip=86.50.94.176&ms=au&fexp=931311%2C916903%2C916713%2C916612%2C919515%2C913818%2C923434%2C916914%2C929117%2C929121%2C929906%2C929907%2C929922%2C929127%2C929129%2C929131%2C929930%2C936403%2C925726%2C925720%2C925722%2C925718%2C929917%2C906945%2C929933%2C920302%2C906842%2C913428%2C920605%2C919811%2C913563%2C904830%2C919373%2C930803%2C904122%2C932211%2C938701%2C936308%2C909549%2C900816%2C912711%2C904494%2C904497%2C900375%2C906001&mt=1377888632&sver=3&itag=5&id=b83363fbfe6dcb8f&cp=U0hWTFlMUF9ITENONl9RRlRDOkd1MHNTdkJ0bmJX&upn=NcwR8nokhFc&expire=1377912232&key=yt1&factor=1.25&signature=1C228BC2BE95DA7489A4C417310CD0BB66A7D524.4CCC6F5FFB5267FC91AEB60B0ED5086C2F87B7F3&ratebypass=yes'],\n  3),\n (['uDNj-_5ty48',\n   '267',\n   '85',\n   '55',\n   '176',\n   '144',\n   '12',\n   '12',\n   'mpeg4',\n   'Music',\n   'http://r2---sn-ovgq0oxu-5goe.c.youtube.com/videoplayback?algorithm=throttle-factor&burst=40&ipbits=8&sparams=algorithm%2Cburst%2Ccp%2Cfactor%2Cid%2Cip%2Cipbits%2Citag%2Csource%2Cupn%2Cexpire&mv=m&source=youtube&ip=86.50.94.176&ms=au&fexp=931311%2C916903%2C916713%2C916612%2C919515%2C913818%2C923434%2C916914%2C929117%2C929121%2C929906%2C929907%2C929922%2C929127%2C929129%2C929131%2C929930%2C936403%2C925726%2C925720%2C925722%2C925718%2C929917%2C906945%2C929933%2C920302%2C906842%2C913428%2C920605%2C919811%2C913563%2C904830%2C919373%2C930803%2C904122%2C932211%2C938701%2C936308%2C909549%2C900816%2C912711%2C904494%2C904497%2C900375%2C906001&mt=1377888632&sver=3&itag=17&id=b83363fbfe6dcb8f&cp=U0hWTFlMUF9ITENONl9RRlRDOkd1MHNTdkJ0bmJX&upn=NcwR8nokhFc&expire=1377912232&key=yt1&factor=1.25&signature=0F50F4715FFF0412AE945EAA27079543A38E9544.CEDCF478798D04934FFB7C303DD9BAF4AF88DC7F&ratebypass=yes'],\n  4),\n (['MaUZ-fQKJz8',\n   '85',\n   '1150',\n   '1051',\n   '654',\n   '480',\n   '29.97',\n   '0',\n   'h264',\n   'Music',\n   'http://r3---sn-ovgq0oxu-5goe.c.youtube.com/videoplayback?fexp=916104%2C912519%2C910100%2C930102%2C932402%2C900374%2C916611%2C929305%2C929117%2C929121%2C929906%2C929907%2C929922%2C929127%2C929129%2C929131%2C929930%2C936403%2C925726%2C925720%2C925722%2C925718%2C929917%2C929933%2C920302%2C927704%2C913428%2C919811%2C913563%2C904830%2C919373%2C930803%2C904122%2C938701%2C936308%2C909549%2C900816%2C912711%2C904494%2C904497%2C906001&id=31a519f9f40a273f&upn=RVb62d43LU4&factor=1.25&sparams=algorithm%2Cburst%2Ccp%2Cfactor%2Cid%2Cip%2Cipbits%2Citag%2Csource%2Cupn%2Cexpire&ms=au&mv=m&sver=3&expire=1377911842&itag=35&ipbits=8&cp=U0hWTFlMT19JTENONl9RRlNJOmZvSjNiQVR3VkQw&key=yt1&ip=86.50.94.176&algorithm=throttle-factor&burst=40&source=youtube&mt=1377888933&signature=51EAFF1EEC435E90E4FD9ACDB106DA7A88F8C051.A10B43ECEA82C657E61CF96AB1C04EDADDD42338&ratebypass=yes'],\n  215)]"
     ]
    }
   ],
   "source": [
    "#split_rdd=rdd1.zipWithIndex().filter(lambda x:x[1]>0)\n",
    "music_rdd=split_rdd.filter(lambda x:'Music' in x[0])#we should search for music in x[0] because it contains data with \\t delimiter. x[1] contains index value.\n",
    "music_rdd.take(5)"
   ]
  },
  {
   "cell_type": "markdown",
   "metadata": {
    "application/vnd.databricks.v1+cell": {
     "cellMetadata": {},
     "inputWidgets": {},
     "nuid": "0f6712e6-073c-4a99-89e9-9c122ea1042d",
     "showTitle": false,
     "title": ""
    }
   },
   "source": [
    "######9. Filter only duration>100 data from split_rdd into an rdd called long_dur_rdd"
   ]
  },
  {
   "cell_type": "code",
   "execution_count": 0,
   "metadata": {
    "application/vnd.databricks.v1+cell": {
     "cellMetadata": {
      "byteLimit": 2048000,
      "rowLimit": 10000
     },
     "inputWidgets": {},
     "nuid": "dae916ef-9397-42c2-b921-d487f5ab76af",
     "showTitle": false,
     "title": ""
    }
   },
   "outputs": [
    {
     "output_type": "stream",
     "name": "stdout",
     "output_type": "stream",
     "text": [
      "Out[9]: [(['uDNj-_5ty48',\n   '267',\n   '373',\n   '274',\n   '568',\n   '320',\n   '29.97',\n   '0',\n   'h264',\n   'Music',\n   'http://r2---sn-ovgq0oxu-5goe.c.youtube.com/videoplayback?algorithm=throttle-factor&burst=40&ipbits=8&sparams=algorithm%2Cburst%2Ccp%2Cfactor%2Cid%2Cip%2Cipbits%2Citag%2Csource%2Cupn%2Cexpire&mv=m&source=youtube&ip=86.50.94.176&ms=au&fexp=931311%2C916903%2C916713%2C916612%2C919515%2C913818%2C923434%2C916914%2C929117%2C929121%2C929906%2C929907%2C929922%2C929127%2C929129%2C929131%2C929930%2C936403%2C925726%2C925720%2C925722%2C925718%2C929917%2C906945%2C929933%2C920302%2C906842%2C913428%2C920605%2C919811%2C913563%2C904830%2C919373%2C930803%2C904122%2C932211%2C938701%2C936308%2C909549%2C900816%2C912711%2C904494%2C904497%2C900375%2C906001&mt=1377888632&sver=3&itag=34&id=b83363fbfe6dcb8f&cp=U0hWTFlMUF9ITENONl9RRlRDOkd1MHNTdkJ0bmJX&upn=NcwR8nokhFc&expire=1377912232&key=yt1&factor=1.25&signature=7FFB8DF0BFB451937740F4C5F8C3EFF502C46CFE.A6F49E3816C0D9385EAC7D9A313A79C0E1B489A6&ratebypass=yes'],\n  1),\n (['uDNj-_5ty48',\n   '267',\n   '512',\n   '396',\n   '480',\n   '270',\n   '29.97',\n   '29.97',\n   'h264',\n   'Music',\n   'http://r2---sn-ovgq0oxu-5goe.c.youtube.com/videoplayback?ipbits=8&sparams=cp%2Cid%2Cip%2Cipbits%2Citag%2Cratebypass%2Csource%2Cupn%2Cexpire&mv=m&ip=86.50.94.176&source=youtube&ms=au&fexp=931311%2C916903%2C916713%2C916612%2C919515%2C913818%2C923434%2C916914%2C929117%2C929121%2C929906%2C929907%2C929922%2C929127%2C929129%2C929131%2C929930%2C936403%2C925726%2C925720%2C925722%2C925718%2C929917%2C906945%2C929933%2C920302%2C906842%2C913428%2C920605%2C919811%2C913563%2C904830%2C919373%2C930803%2C904122%2C932211%2C938701%2C936308%2C909549%2C900816%2C912711%2C904494%2C904497%2C900375%2C906001&ratebypass=yes&mt=1377888632&sver=3&itag=18&id=b83363fbfe6dcb8f&expire=1377912232&upn=NcwR8nokhFc&key=yt1&cp=U0hWTFlMUF9ITENONl9RRlRDOkd1MHNTdkJ0bmJX&signature=187482B3F497A03D2FA9E03FF0D540C9801DF2E5.88F8505D8378874858DE9712197A6E7876F2E708'],\n  2),\n (['uDNj-_5ty48',\n   '267',\n   '324',\n   '263',\n   '400',\n   '226',\n   '29.97',\n   '29.97',\n   'flv1',\n   'Music',\n   'http://r2---sn-ovgq0oxu-5goe.c.youtube.com/videoplayback?algorithm=throttle-factor&burst=40&ipbits=8&sparams=algorithm%2Cburst%2Ccp%2Cfactor%2Cid%2Cip%2Cipbits%2Citag%2Csource%2Cupn%2Cexpire&mv=m&source=youtube&ip=86.50.94.176&ms=au&fexp=931311%2C916903%2C916713%2C916612%2C919515%2C913818%2C923434%2C916914%2C929117%2C929121%2C929906%2C929907%2C929922%2C929127%2C929129%2C929131%2C929930%2C936403%2C925726%2C925720%2C925722%2C925718%2C929917%2C906945%2C929933%2C920302%2C906842%2C913428%2C920605%2C919811%2C913563%2C904830%2C919373%2C930803%2C904122%2C932211%2C938701%2C936308%2C909549%2C900816%2C912711%2C904494%2C904497%2C900375%2C906001&mt=1377888632&sver=3&itag=5&id=b83363fbfe6dcb8f&cp=U0hWTFlMUF9ITENONl9RRlRDOkd1MHNTdkJ0bmJX&upn=NcwR8nokhFc&expire=1377912232&key=yt1&factor=1.25&signature=1C228BC2BE95DA7489A4C417310CD0BB66A7D524.4CCC6F5FFB5267FC91AEB60B0ED5086C2F87B7F3&ratebypass=yes'],\n  3),\n (['uDNj-_5ty48',\n   '267',\n   '85',\n   '55',\n   '176',\n   '144',\n   '12',\n   '12',\n   'mpeg4',\n   'Music',\n   'http://r2---sn-ovgq0oxu-5goe.c.youtube.com/videoplayback?algorithm=throttle-factor&burst=40&ipbits=8&sparams=algorithm%2Cburst%2Ccp%2Cfactor%2Cid%2Cip%2Cipbits%2Citag%2Csource%2Cupn%2Cexpire&mv=m&source=youtube&ip=86.50.94.176&ms=au&fexp=931311%2C916903%2C916713%2C916612%2C919515%2C913818%2C923434%2C916914%2C929117%2C929121%2C929906%2C929907%2C929922%2C929127%2C929129%2C929131%2C929930%2C936403%2C925726%2C925720%2C925722%2C925718%2C929917%2C906945%2C929933%2C920302%2C906842%2C913428%2C920605%2C919811%2C913563%2C904830%2C919373%2C930803%2C904122%2C932211%2C938701%2C936308%2C909549%2C900816%2C912711%2C904494%2C904497%2C900375%2C906001&mt=1377888632&sver=3&itag=17&id=b83363fbfe6dcb8f&cp=U0hWTFlMUF9ITENONl9RRlRDOkd1MHNTdkJ0bmJX&upn=NcwR8nokhFc&expire=1377912232&key=yt1&factor=1.25&signature=0F50F4715FFF0412AE945EAA27079543A38E9544.CEDCF478798D04934FFB7C303DD9BAF4AF88DC7F&ratebypass=yes'],\n  4),\n (['h9Kt-GhvVlg',\n   '333',\n   '727',\n   '638',\n   '384',\n   '288',\n   '25',\n   '0',\n   'h264',\n   'People & Blogs',\n   'http://r2---sn-ovgq0oxu-5goe.c.youtube.com/videoplayback?fexp=900359%2C910095%2C929117%2C929121%2C929906%2C929907%2C929922%2C929127%2C929129%2C929131%2C929930%2C936403%2C925726%2C925720%2C925722%2C925718%2C929917%2C929933%2C920302%2C927704%2C913428%2C920605%2C919811%2C913563%2C904830%2C919373%2C930803%2C904122%2C938701%2C936308%2C909549%2C900816%2C912711%2C904494%2C904497%2C900375%2C906001&mv=m&expire=1377909300&cp=U0hWTFlLV19FSkNONl9RRUFEOjVUdVNvcUN1b3N5&sver=3&mt=1377888632&id=87d2adf8686f5658&itag=34&burst=40&ms=au&source=youtube&sparams=algorithm%2Cburst%2Ccp%2Cfactor%2Cid%2Cip%2Cipbits%2Citag%2Csource%2Cupn%2Cexpire&ipbits=8&factor=1.25&ip=86.50.94.176&key=yt1&algorithm=throttle-factor&upn=tMFF_bU8-a0&signature=85B73C4BD0D44F9083F3CA4EAA67ED13011C01D6.663BFF058934B536914874D915BDCFFBA5A34519&ratebypass=yes'],\n  12),\n (['h9Kt-GhvVlg',\n   '333',\n   '668',\n   '567',\n   '384',\n   '288',\n   '25',\n   '25',\n   'h264',\n   'People & Blogs',\n   'http://r2---sn-ovgq0oxu-5goe.c.youtube.com/videoplayback?fexp=900359%2C910095%2C929117%2C929121%2C929906%2C929907%2C929922%2C929127%2C929129%2C929131%2C929930%2C936403%2C925726%2C925720%2C925722%2C925718%2C929917%2C929933%2C920302%2C927704%2C913428%2C920605%2C919811%2C913563%2C904830%2C919373%2C930803%2C904122%2C938701%2C936308%2C909549%2C900816%2C912711%2C904494%2C904497%2C900375%2C906001&expire=1377909300&cp=U0hWTFlLV19FSkNONl9RRUFEOjVUdVNvcUN1b3N5&sver=3&mt=1377888632&itag=18&id=87d2adf8686f5658&ms=au&source=youtube&sparams=cp%2Cid%2Cip%2Cipbits%2Citag%2Cratebypass%2Csource%2Cupn%2Cexpire&ipbits=8&ratebypass=yes&ip=86.50.94.176&key=yt1&mv=m&upn=tMFF_bU8-a0&signature=2D5FC13958915AEFB966F441424041F531D0572A.9BDC1F9848BA3F5EFE69C4A9AAF550B2FFC34306'],\n  13),\n (['h9Kt-GhvVlg',\n   '333',\n   '306',\n   '246',\n   '320',\n   '240',\n   '25',\n   '25',\n   'flv1',\n   'People & Blogs',\n   'http://r2---sn-ovgq0oxu-5goe.c.youtube.com/videoplayback?fexp=900359%2C910095%2C929117%2C929121%2C929906%2C929907%2C929922%2C929127%2C929129%2C929131%2C929930%2C936403%2C925726%2C925720%2C925722%2C925718%2C929917%2C929933%2C920302%2C927704%2C913428%2C920605%2C919811%2C913563%2C904830%2C919373%2C930803%2C904122%2C938701%2C936308%2C909549%2C900816%2C912711%2C904494%2C904497%2C900375%2C906001&mv=m&expire=1377909300&cp=U0hWTFlLV19FSkNONl9RRUFEOjVUdVNvcUN1b3N5&sver=3&mt=1377888632&id=87d2adf8686f5658&itag=5&burst=40&ms=au&source=youtube&sparams=algorithm%2Cburst%2Ccp%2Cfactor%2Cid%2Cip%2Cipbits%2Citag%2Csource%2Cupn%2Cexpire&ipbits=8&factor=1.25&ip=86.50.94.176&key=yt1&algorithm=throttle-factor&upn=tMFF_bU8-a0&signature=92F1D0939DE3A6FE0D563F83A61DF52DB3757524.D3E53768358FAD6F12B8B75558339AB01BCD8671&ratebypass=yes'],\n  14),\n (['h9Kt-GhvVlg',\n   '333',\n   '91',\n   '54',\n   '176',\n   '144',\n   '12',\n   '12',\n   'mpeg4',\n   'People & Blogs',\n   'http://r2---sn-ovgq0oxu-5goe.c.youtube.com/videoplayback?fexp=900359%2C910095%2C929117%2C929121%2C929906%2C929907%2C929922%2C929127%2C929129%2C929131%2C929930%2C936403%2C925726%2C925720%2C925722%2C925718%2C929917%2C929933%2C920302%2C927704%2C913428%2C920605%2C919811%2C913563%2C904830%2C919373%2C930803%2C904122%2C938701%2C936308%2C909549%2C900816%2C912711%2C904494%2C904497%2C900375%2C906001&mv=m&expire=1377909300&cp=U0hWTFlLV19FSkNONl9RRUFEOjVUdVNvcUN1b3N5&sver=3&mt=1377888632&id=87d2adf8686f5658&itag=17&burst=40&ms=au&source=youtube&sparams=algorithm%2Cburst%2Ccp%2Cfactor%2Cid%2Cip%2Cipbits%2Citag%2Csource%2Cupn%2Cexpire&ipbits=8&factor=1.25&ip=86.50.94.176&key=yt1&algorithm=throttle-factor&upn=tMFF_bU8-a0&signature=3FB18946D3CD8F4AA627B3DA35B38ADFF5E54508.8CEDE4075851E443F53CB75D2909172CAABBF479&ratebypass=yes'],\n  15),\n (['dtMj-hglvaI',\n   '1000',\n   '2862',\n   '2703',\n   '1280',\n   '720',\n   '29.97',\n   '29.97',\n   'h264',\n   'Sports',\n   'http://r2---sn-ovgq0oxu-5goe.c.youtube.com/videoplayback?upn=YrLyXvzomxc&sparams=cp%2Cid%2Cip%2Cipbits%2Citag%2Cratebypass%2Csource%2Cupn%2Cexpire&cp=U0hWTFlLV19NSkNONl9RRUFHOmZEODktbTZxc3Zz&id=76d323fa1825bda2&ip=86.50.94.176&mt=1377888632&mv=m&sver=3&ms=au&fexp=916904%2C925005%2C932217%2C930102%2C921723%2C916626%2C936204%2C929117%2C929121%2C929906%2C929907%2C929922%2C929127%2C929129%2C929131%2C929930%2C936403%2C925726%2C925720%2C925722%2C925718%2C929917%2C929933%2C920302%2C913428%2C919811%2C913563%2C904830%2C919373%2C930803%2C908536%2C904122%2C938701%2C936308%2C909549%2C900816%2C912711%2C904494%2C904497%2C900375%2C906001&source=youtube&key=yt1&itag=22&ratebypass=yes&ipbits=8&expire=1377909680&signature=95E0F875476E58DE9D04594FBD2DC81A9AD3C6D3.81D0F9286CD9315D1EB2F509333BBB4B834ED90C'],\n  22),\n (['dtMj-hglvaI',\n   '1000',\n   '2774',\n   '2703',\n   '1280',\n   '720',\n   '29.97',\n   '29.97',\n   'vp8',\n   'Sports',\n   'http://r2---sn-ovgq0oxu-5goe.c.youtube.com/videoplayback?upn=YrLyXvzomxc&sparams=cp%2Cid%2Cip%2Cipbits%2Citag%2Cratebypass%2Csource%2Cupn%2Cexpire&cp=U0hWTFlLV19NSkNONl9RRUFHOmZEODktbTZxc3Zz&id=76d323fa1825bda2&ip=86.50.94.176&mt=1377888632&mv=m&sver=3&ms=au&fexp=916904%2C925005%2C932217%2C930102%2C921723%2C916626%2C936204%2C929117%2C929121%2C929906%2C929907%2C929922%2C929127%2C929129%2C929131%2C929930%2C936403%2C925726%2C925720%2C925722%2C925718%2C929917%2C929933%2C920302%2C913428%2C919811%2C913563%2C904830%2C919373%2C930803%2C908536%2C904122%2C938701%2C936308%2C909549%2C900816%2C912711%2C904494%2C904497%2C900375%2C906001&source=youtube&key=yt1&itag=45&ratebypass=yes&ipbits=8&expire=1377909680&signature=D6571512D5D019653152A124B19661D408E06060.B8347AA03B00ED21FD669EFB3AA0D7F1B72D2435'],\n  23),\n (['dtMj-hglvaI',\n   '1000',\n   '1174',\n   '1062',\n   '854',\n   '480',\n   '29.97',\n   '29.97',\n   'h264',\n   'Sports',\n   'http://r2---sn-ovgq0oxu-5goe.c.youtube.com/videoplayback?sparams=algorithm%2Cburst%2Ccp%2Cfactor%2Cid%2Cip%2Cipbits%2Citag%2Csource%2Cupn%2Cexpire&factor=1.25&id=76d323fa1825bda2&algorithm=throttle-factor&ip=86.50.94.176&mt=1377888632&cp=U0hWTFlLV19NSkNONl9RRUFHOmZEODktbTZxc3Zz&mv=m&sver=3&fexp=916904%2C925005%2C932217%2C930102%2C921723%2C916626%2C936204%2C929117%2C929121%2C929906%2C929907%2C929922%2C929127%2C929129%2C929131%2C929930%2C936403%2C925726%2C925720%2C925722%2C925718%2C929917%2C929933%2C920302%2C913428%2C919811%2C913563%2C904830%2C919373%2C930803%2C908536%2C904122%2C938701%2C936308%2C909549%2C900816%2C912711%2C904494%2C904497%2C900375%2C906001&source=youtube&key=yt1&itag=35&ms=au&burst=40&upn=YrLyXvzomxc&ipbits=8&expire=1377909680&signature=6BBB38260072A4DF705BE22E18AEB32FD9A99F55.86B5049ABE7027C13269A1761744C0FB969A1427&ratebypass=yes'],\n  24),\n (['dtMj-hglvaI',\n   '1000',\n   '1140',\n   '1062',\n   '854',\n   '480',\n   '29.97',\n   '29.97',\n   'vp8',\n   'Sports',\n   'http://r2---sn-ovgq0oxu-5goe.c.youtube.com/videoplayback?upn=YrLyXvzomxc&sparams=cp%2Cid%2Cip%2Cipbits%2Citag%2Cratebypass%2Csource%2Cupn%2Cexpire&cp=U0hWTFlLV19NSkNONl9RRUFHOmZEODktbTZxc3Zz&id=76d323fa1825bda2&ip=86.50.94.176&mt=1377888632&mv=m&sver=3&ms=au&fexp=916904%2C925005%2C932217%2C930102%2C921723%2C916626%2C936204%2C929117%2C929121%2C929906%2C929907%2C929922%2C929127%2C929129%2C929131%2C929930%2C936403%2C925726%2C925720%2C925722%2C925718%2C929917%2C929933%2C920302%2C913428%2C919811%2C913563%2C904830%2C919373%2C930803%2C908536%2C904122%2C938701%2C936308%2C909549%2C900816%2C912711%2C904494%2C904497%2C900375%2C906001&source=youtube&key=yt1&itag=44&ratebypass=yes&ipbits=8&expire=1377909680&signature=1EAFDDC4718C8BF2131C30060267A4BDE72AD99E.99F78B1947D2450EF2D429745D4EBFA1DDACB35A'],\n  25),\n (['dtMj-hglvaI',\n   '1000',\n   '845',\n   '725',\n   '640',\n   '360',\n   '29.97',\n   '29.97',\n   'h264',\n   'Sports',\n   'http://r2---sn-ovgq0oxu-5goe.c.youtube.com/videoplayback?sparams=algorithm%2Cburst%2Ccp%2Cfactor%2Cid%2Cip%2Cipbits%2Citag%2Csource%2Cupn%2Cexpire&factor=1.25&id=76d323fa1825bda2&algorithm=throttle-factor&ip=86.50.94.176&mt=1377888632&cp=U0hWTFlLV19NSkNONl9RRUFHOmZEODktbTZxc3Zz&mv=m&sver=3&fexp=916904%2C925005%2C932217%2C930102%2C921723%2C916626%2C936204%2C929117%2C929121%2C929906%2C929907%2C929922%2C929127%2C929129%2C929131%2C929930%2C936403%2C925726%2C925720%2C925722%2C925718%2C929917%2C929933%2C920302%2C913428%2C919811%2C913563%2C904830%2C919373%2C930803%2C908536%2C904122%2C938701%2C936308%2C909549%2C900816%2C912711%2C904494%2C904497%2C900375%2C906001&source=youtube&key=yt1&itag=34&ms=au&burst=40&upn=YrLyXvzomxc&ipbits=8&expire=1377909680&signature=41740BBD9E40CFE850DAC5351730BB8248071C6F.47758009DC12CA3849BBB0564D88CE42234AC42B&ratebypass=yes'],\n  26),\n (['dtMj-hglvaI',\n   '1000',\n   '723',\n   '621',\n   '640',\n   '360',\n   '29.97',\n   '29.97',\n   'h264',\n   'Sports',\n   'http://r2---sn-ovgq0oxu-5goe.c.youtube.com/videoplayback?upn=YrLyXvzomxc&sparams=cp%2Cid%2Cip%2Cipbits%2Citag%2Cratebypass%2Csource%2Cupn%2Cexpire&cp=U0hWTFlLV19NSkNONl9RRUFHOmZEODktbTZxc3Zz&id=76d323fa1825bda2&ip=86.50.94.176&mt=1377888632&mv=m&sver=3&ms=au&fexp=916904%2C925005%2C932217%2C930102%2C921723%2C916626%2C936204%2C929117%2C929121%2C929906%2C929907%2C929922%2C929127%2C929129%2C929131%2C929930%2C936403%2C925726%2C925720%2C925722%2C925718%2C929917%2C929933%2C920302%2C913428%2C919811%2C913563%2C904830%2C919373%2C930803%2C908536%2C904122%2C938701%2C936308%2C909549%2C900816%2C912711%2C904494%2C904497%2C900375%2C906001&source=youtube&key=yt1&itag=18&ratebypass=yes&ipbits=8&expire=1377909680&signature=960D9FEC529D6EB80112C998E5B2F61D6624C961.BEA766395ADC776408BBE2603582400DA125CCF9'],\n  27),\n (['dtMj-hglvaI',\n   '1000',\n   '821',\n   '621',\n   '640',\n   '360',\n   '29.97',\n   '29.97',\n   'vp8',\n   'Sports',\n   'http://r2---sn-ovgq0oxu-5goe.c.youtube.com/videoplayback?upn=YrLyXvzomxc&sparams=cp%2Cid%2Cip%2Cipbits%2Citag%2Cratebypass%2Csource%2Cupn%2Cexpire&cp=U0hWTFlLV19NSkNONl9RRUFHOmZEODktbTZxc3Zz&id=76d323fa1825bda2&ip=86.50.94.176&mt=1377888632&mv=m&sver=3&ms=au&fexp=916904%2C925005%2C932217%2C930102%2C921723%2C916626%2C936204%2C929117%2C929121%2C929906%2C929907%2C929922%2C929127%2C929129%2C929131%2C929930%2C936403%2C925726%2C925720%2C925722%2C925718%2C929917%2C929933%2C920302%2C913428%2C919811%2C913563%2C904830%2C919373%2C930803%2C908536%2C904122%2C938701%2C936308%2C909549%2C900816%2C912711%2C904494%2C904497%2C900375%2C906001&source=youtube&key=yt1&itag=43&ratebypass=yes&ipbits=8&expire=1377909680&signature=29C861654C46AFEDF8A0156358C152AC52D94A3F.5DF4434F0DCDA69C262C080E703CD1C5FD2D19D4'],\n  28),\n (['dtMj-hglvaI',\n   '1000',\n   '323',\n   '262',\n   '400',\n   '224',\n   '29.97',\n   '29.97',\n   'flv1',\n   'Sports',\n   'http://r2---sn-ovgq0oxu-5goe.c.youtube.com/videoplayback?sparams=algorithm%2Cburst%2Ccp%2Cfactor%2Cid%2Cip%2Cipbits%2Citag%2Csource%2Cupn%2Cexpire&factor=1.25&id=76d323fa1825bda2&algorithm=throttle-factor&ip=86.50.94.176&mt=1377888632&cp=U0hWTFlLV19NSkNONl9RRUFHOmZEODktbTZxc3Zz&mv=m&sver=3&fexp=916904%2C925005%2C932217%2C930102%2C921723%2C916626%2C936204%2C929117%2C929121%2C929906%2C929907%2C929922%2C929127%2C929129%2C929131%2C929930%2C936403%2C925726%2C925720%2C925722%2C925718%2C929917%2C929933%2C920302%2C913428%2C919811%2C913563%2C904830%2C919373%2C930803%2C908536%2C904122%2C938701%2C936308%2C909549%2C900816%2C912711%2C904494%2C904497%2C900375%2C906001&source=youtube&key=yt1&itag=5&ms=au&burst=40&upn=YrLyXvzomxc&ipbits=8&expire=1377909680&signature=C5CFD0B8616884F91CCA6740F4BF828183EDAB16.7E3CD3617B5EDF4EAA90B8259A04E3D7312D47F5&ratebypass=yes'],\n  29),\n (['dtMj-hglvaI',\n   '1000',\n   '81',\n   '56',\n   '176',\n   '144',\n   '12',\n   '12',\n   'mpeg4',\n   'Sports',\n   'http://r2---sn-ovgq0oxu-5goe.c.youtube.com/videoplayback?sparams=algorithm%2Cburst%2Ccp%2Cfactor%2Cid%2Cip%2Cipbits%2Citag%2Csource%2Cupn%2Cexpire&factor=1.25&id=76d323fa1825bda2&algorithm=throttle-factor&ip=86.50.94.176&mt=1377888632&cp=U0hWTFlLV19NSkNONl9RRUFHOmZEODktbTZxc3Zz&mv=m&sver=3&fexp=916904%2C925005%2C932217%2C930102%2C921723%2C916626%2C936204%2C929117%2C929121%2C929906%2C929907%2C929922%2C929127%2C929129%2C929131%2C929930%2C936403%2C925726%2C925720%2C925722%2C925718%2C929917%2C929933%2C920302%2C913428%2C919811%2C913563%2C904830%2C919373%2C930803%2C908536%2C904122%2C938701%2C936308%2C909549%2C900816%2C912711%2C904494%2C904497%2C900375%2C906001&source=youtube&key=yt1&itag=17&ms=au&burst=40&upn=YrLyXvzomxc&ipbits=8&expire=1377909680&signature=A93A72A679571EFAC416596D95A0019631A9FE04.5792F1C029BE4280C479C0F33E34A679A2A73239&ratebypass=yes'],\n  30),\n (['NOMf-ThvDq4',\n   '130',\n   '1268',\n   '1157',\n   '640',\n   '480',\n   '29.97',\n   '0',\n   'h264',\n   'Gaming',\n   'http://r3---sn-ovgq0oxu-5goe.c.youtube.com/videoplayback?ipbits=8&expire=1377909040&ms=au&sver=3&ip=86.50.94.176&upn=RvoAmT8vwFA&sparams=algorithm%2Cburst%2Ccp%2Cfactor%2Cid%2Cip%2Cipbits%2Citag%2Csource%2Cupn%2Cexpire&fexp=923437%2C916904%2C918117%2C904837%2C914073%2C916626%2C919510%2C919118%2C929117%2C929121%2C929906%2C929907%2C929922%2C929127%2C929129%2C929131%2C929930%2C936403%2C925726%2C925720%2C925722%2C925718%2C929917%2C906945%2C929933%2C920302%2C913428%2C920605%2C937003%2C919811%2C913563%2C904830%2C919373%2C930803%2C904122%2C938701%2C936308%2C909549%2C900816%2C912711%2C904494%2C904497%2C900375%2C906001&algorithm=throttle-factor&burst=40&mv=m&cp=U0hWTFlLV19JSkNONl9RRUFBOnZqc2lOY3Zjb1dJ&id=34e31ff9386f0eae&mt=1377888632&source=youtube&itag=35&key=yt1&factor=1.25&signature=8D8C7DF812CA19B82BDDF0FE675F713754EEE610.AB11573A1F37B65A2ED2C28480E5709D39DEA3C8&ratebypass=yes'],\n  47),\n (['NOMf-ThvDq4',\n   '130',\n   '1623',\n   '1157',\n   '640',\n   '480',\n   '29.97',\n   '0',\n   'vp8',\n   'Gaming',\n   'http://r3---sn-ovgq0oxu-5goe.c.youtube.com/videoplayback?ipbits=8&mv=m&ms=au&sver=3&ip=86.50.94.176&upn=RvoAmT8vwFA&sparams=cp%2Cid%2Cip%2Cipbits%2Citag%2Cratebypass%2Csource%2Cupn%2Cexpire&fexp=923437%2C916904%2C918117%2C904837%2C914073%2C916626%2C919510%2C919118%2C929117%2C929121%2C929906%2C929907%2C929922%2C929127%2C929129%2C929131%2C929930%2C936403%2C925726%2C925720%2C925722%2C925718%2C929917%2C906945%2C929933%2C920302%2C913428%2C920605%2C937003%2C919811%2C913563%2C904830%2C919373%2C930803%2C904122%2C938701%2C936308%2C909549%2C900816%2C912711%2C904494%2C904497%2C900375%2C906001&itag=44&cp=U0hWTFlLV19JSkNONl9RRUFBOnZqc2lOY3Zjb1dJ&id=34e31ff9386f0eae&mt=1377888632&ratebypass=yes&source=youtube&expire=1377909040&key=yt1&signature=326061F73BA4D96CD9E5F026CD3AB76DB1FD60A8.A3405D230DDCF048F338BA8902DEB2D582107882'],\n  48),\n (['NOMf-ThvDq4',\n   '130',\n   '908',\n   '788',\n   '480',\n   '360',\n   '29.97',\n   '0',\n   'h264',\n   'Gaming',\n   'http://r3---sn-ovgq0oxu-5goe.c.youtube.com/videoplayback?ipbits=8&expire=1377909040&ms=au&sver=3&ip=86.50.94.176&upn=RvoAmT8vwFA&sparams=algorithm%2Cburst%2Ccp%2Cfactor%2Cid%2Cip%2Cipbits%2Citag%2Csource%2Cupn%2Cexpire&fexp=923437%2C916904%2C918117%2C904837%2C914073%2C916626%2C919510%2C919118%2C929117%2C929121%2C929906%2C929907%2C929922%2C929127%2C929129%2C929131%2C929930%2C936403%2C925726%2C925720%2C925722%2C925718%2C929917%2C906945%2C929933%2C920302%2C913428%2C920605%2C937003%2C919811%2C913563%2C904830%2C919373%2C930803%2C904122%2C938701%2C936308%2C909549%2C900816%2C912711%2C904494%2C904497%2C900375%2C906001&algorithm=throttle-factor&burst=40&mv=m&cp=U0hWTFlLV19JSkNONl9RRUFBOnZqc2lOY3Zjb1dJ&id=34e31ff9386f0eae&mt=1377888632&source=youtube&itag=34&key=yt1&factor=1.25&signature=89A42D6D0D802A29C10D147CE34AC699552DECCA.6BA6DFDDA90AF8B07591CC781987041BEE8104C9&ratebypass=yes'],\n  49)]"
     ]
    }
   ],
   "source": [
    "long_dur_rdd=split_rdd.filter(lambda x:int(x[0][1])>100)\n",
    "long_dur_rdd.take(20)"
   ]
  },
  {
   "cell_type": "markdown",
   "metadata": {
    "application/vnd.databricks.v1+cell": {
     "cellMetadata": {},
     "inputWidgets": {},
     "nuid": "73981523-64e7-4211-be05-bff3bf4caefc",
     "showTitle": false,
     "title": ""
    }
   },
   "source": [
    "######10. Union music_rdd with longdur_rdd then convert to tuple and get only the deduplicated (distinct) records into an rdd music_longdur"
   ]
  },
  {
   "cell_type": "code",
   "execution_count": 0,
   "metadata": {
    "application/vnd.databricks.v1+cell": {
     "cellMetadata": {
      "byteLimit": 2048000,
      "rowLimit": 10000
     },
     "inputWidgets": {},
     "nuid": "5e7623cd-df0e-4af3-9bb0-4ea24474a93c",
     "showTitle": false,
     "title": ""
    }
   },
   "outputs": [
    {
     "output_type": "stream",
     "name": "stdout",
     "output_type": "stream",
     "text": [
      "Out[10]: [('MaUZ-fQKJz8',\n  '85',\n  '1150',\n  '1051',\n  '654',\n  '480',\n  '29.97',\n  '0',\n  'h264',\n  'Music',\n  'http://r3---sn-ovgq0oxu-5goe.c.youtube.com/videoplayback?fexp=916104%2C912519%2C910100%2C930102%2C932402%2C900374%2C916611%2C929305%2C929117%2C929121%2C929906%2C929907%2C929922%2C929127%2C929129%2C929131%2C929930%2C936403%2C925726%2C925720%2C925722%2C925718%2C929917%2C929933%2C920302%2C927704%2C913428%2C919811%2C913563%2C904830%2C919373%2C930803%2C904122%2C938701%2C936308%2C909549%2C900816%2C912711%2C904494%2C904497%2C906001&id=31a519f9f40a273f&upn=RVb62d43LU4&factor=1.25&sparams=algorithm%2Cburst%2Ccp%2Cfactor%2Cid%2Cip%2Cipbits%2Citag%2Csource%2Cupn%2Cexpire&ms=au&mv=m&sver=3&expire=1377911842&itag=35&ipbits=8&cp=U0hWTFlMT19JTENONl9RRlNJOmZvSjNiQVR3VkQw&key=yt1&ip=86.50.94.176&algorithm=throttle-factor&burst=40&source=youtube&mt=1377888933&signature=51EAFF1EEC435E90E4FD9ACDB106DA7A88F8C051.A10B43ECEA82C657E61CF96AB1C04EDADDD42338&ratebypass=yes'),\n ('MaUZ-fQKJz8',\n  '85',\n  '817',\n  '711',\n  '490',\n  '360',\n  '29.97',\n  '0',\n  'h264',\n  'Music',\n  'http://r3---sn-ovgq0oxu-5goe.c.youtube.com/videoplayback?fexp=916104%2C912519%2C910100%2C930102%2C932402%2C900374%2C916611%2C929305%2C929117%2C929121%2C929906%2C929907%2C929922%2C929127%2C929129%2C929131%2C929930%2C936403%2C925726%2C925720%2C925722%2C925718%2C929917%2C929933%2C920302%2C927704%2C913428%2C919811%2C913563%2C904830%2C919373%2C930803%2C904122%2C938701%2C936308%2C909549%2C900816%2C912711%2C904494%2C904497%2C906001&id=31a519f9f40a273f&upn=RVb62d43LU4&factor=1.25&sparams=algorithm%2Cburst%2Ccp%2Cfactor%2Cid%2Cip%2Cipbits%2Citag%2Csource%2Cupn%2Cexpire&ms=au&mv=m&sver=3&expire=1377911842&itag=34&ipbits=8&cp=U0hWTFlMT19JTENONl9RRlNJOmZvSjNiQVR3VkQw&key=yt1&ip=86.50.94.176&algorithm=throttle-factor&burst=40&source=youtube&mt=1377888933&signature=4D2AF9F2B4233220DE3C7B9ABA87B94E3EE69C8D.985E9671F5B843E987AE63278CBC72E37A73BB17&ratebypass=yes'),\n ('MaUZ-fQKJz8',\n  '85',\n  '672',\n  '584',\n  '490',\n  '360',\n  '29.97',\n  '29.97',\n  'h264',\n  'Music',\n  'http://r3---sn-ovgq0oxu-5goe.c.youtube.com/videoplayback?id=31a519f9f40a273f&upn=RVb62d43LU4&cp=U0hWTFlMT19JTENONl9RRlNJOmZvSjNiQVR3VkQw&sparams=cp%2Cid%2Cip%2Cipbits%2Citag%2Cratebypass%2Csource%2Cupn%2Cexpire&ms=au&mv=m&sver=3&expire=1377911842&itag=18&ratebypass=yes&ipbits=8&key=yt1&ip=86.50.94.176&fexp=916104%2C912519%2C910100%2C930102%2C932402%2C900374%2C916611%2C929305%2C929117%2C929121%2C929906%2C929907%2C929922%2C929127%2C929129%2C929131%2C929930%2C936403%2C925726%2C925720%2C925722%2C925718%2C929917%2C929933%2C920302%2C927704%2C913428%2C919811%2C913563%2C904830%2C919373%2C930803%2C904122%2C938701%2C936308%2C909549%2C900816%2C912711%2C904494%2C904497%2C906001&source=youtube&mt=1377888933&signature=0E25BE956D3424FFA9AC5925ED72BF4B3AA791A0.76FC71F7FCADDFD282BA7AD2D85C1101B2B3DDFD'),\n ('z6h0-L2wjpg',\n  '900',\n  '241',\n  '143',\n  '480',\n  '360',\n  '29.97',\n  '29.97',\n  'h264',\n  'Music',\n  'http://r1---sn-ovgq0oxu-5goe.c.youtube.com/videoplayback?ms=au&expire=1377911116&id=cfa874f8bdb08e98&itag=18&sver=3&cp=U0hWTFlMT19GUENONl9RRlNCOlhQTlZzVUtIMm9l&mt=1377889017&fexp=911424%2C932206%2C900376%2C929117%2C929121%2C929906%2C929907%2C929922%2C929127%2C929129%2C929131%2C929930%2C936403%2C925726%2C925720%2C925722%2C925718%2C929917%2C906945%2C929933%2C920302%2C913428%2C920605%2C919811%2C913563%2C904830%2C919373%2C930803%2C904122%2C932211%2C938701%2C936308%2C909549%2C900816%2C912711%2C904494%2C904497%2C900378%2C900375%2C906001&upn=FncwO-MfKzc&mv=m&key=yt1&ip=86.50.94.176&ratebypass=yes&ipbits=8&sparams=cp%2Cid%2Cip%2Cipbits%2Citag%2Cratebypass%2Csource%2Cupn%2Cexpire&source=youtube&signature=AB8A6AE09B65964087FB2104707B92B9A852E876.6476F56000C13464D0A5B9C106937A5D330F390E'),\n ('fggR-s37mLc',\n  '341',\n  '714',\n  '615',\n  '640',\n  '360',\n  '24',\n  '24',\n  'h264',\n  'Music',\n  'http://r3---sn-ovgq0oxu-5goe.c.youtube.com/videoplayback?fexp=906398%2C927703%2C930102%2C916612%2C929117%2C929121%2C929906%2C929907%2C929922%2C929127%2C929129%2C929131%2C929930%2C936403%2C925726%2C925720%2C925722%2C925718%2C929917%2C906945%2C929933%2C920302%2C927704%2C913428%2C919811%2C913563%2C904830%2C919373%2C930803%2C908536%2C904122%2C932211%2C938701%2C936308%2C909549%2C900816%2C912711%2C904494%2C904497%2C900375%2C906001&ms=au&mv=m&mt=1377889017&sparams=cp%2Cid%2Cip%2Cipbits%2Citag%2Cratebypass%2Csource%2Cupn%2Cexpire&id=7e0811facdfb98b7&upn=kFL4vfOq1CE&cp=U0hWTFlMTl9OTENONl9RRlJGOmFGeVY5endFRE1T&sver=3&expire=1377910592&source=youtube&ipbits=8&ratebypass=yes&itag=18&key=yt1&ip=86.50.94.176&signature=A003B467085AEFFBC7739B6D0221933CDC65B09B.440E5803DF9CC58E3525AB0CE629D6926CB612CB')]"
     ]
    }
   ],
   "source": [
    "uni_rdd=music_rdd.union(long_dur_rdd)\n",
    "uni_rdd.take(5)\n",
    "music_longdur=uni_rdd.map(lambda x:tuple(x[0]))\n",
    "music_longdur.count() #127545\n",
    "music_longdur=uni_rdd.map(lambda x:tuple(x[0])).distinct()\n",
    "music_longdur.take(5) #105906\n"
   ]
  },
  {
   "cell_type": "markdown",
   "metadata": {
    "application/vnd.databricks.v1+cell": {
     "cellMetadata": {},
     "inputWidgets": {},
     "nuid": "47b4777c-fb11-492d-ae31-204af7e12995",
     "showTitle": false,
     "title": ""
    }
   },
   "source": [
    "######11. Select only id, duration, codec and category by re-ordering the fields like id,category,codec,duration into an rdd map_colsrdd"
   ]
  },
  {
   "cell_type": "code",
   "execution_count": 0,
   "metadata": {
    "application/vnd.databricks.v1+cell": {
     "cellMetadata": {
      "byteLimit": 2048000,
      "rowLimit": 10000
     },
     "inputWidgets": {},
     "nuid": "23cfda4a-67b3-441a-9146-c561979ccc66",
     "showTitle": false,
     "title": ""
    }
   },
   "outputs": [
    {
     "output_type": "stream",
     "name": "stdout",
     "output_type": "stream",
     "text": [
      "Out[11]: [('MaUZ-fQKJz8', 'Music', 'h264', '85'),\n ('MaUZ-fQKJz8', 'Music', 'h264', '85'),\n ('MaUZ-fQKJz8', 'Music', 'h264', '85'),\n ('z6h0-L2wjpg', 'Music', 'h264', '900'),\n ('fggR-s37mLc', 'Music', 'h264', '341')]"
     ]
    }
   ],
   "source": [
    "map_colsrdd=music_longdur.map(lambda x:(x[0],x[9],x[8],x[1]))\n",
    "map_colsrdd.take(5)"
   ]
  },
  {
   "cell_type": "markdown",
   "metadata": {
    "application/vnd.databricks.v1+cell": {
     "cellMetadata": {},
     "inputWidgets": {},
     "nuid": "a783a385-b7b7-4f7b-b80b-4b385740c4ad",
     "showTitle": false,
     "title": ""
    }
   },
   "source": [
    "######12. Select only duration column from map_colsrdd and find max duration by using max function."
   ]
  },
  {
   "cell_type": "code",
   "execution_count": 0,
   "metadata": {
    "application/vnd.databricks.v1+cell": {
     "cellMetadata": {
      "byteLimit": 2048000,
      "rowLimit": 10000
     },
     "inputWidgets": {},
     "nuid": "7e409295-d21a-4694-a8bb-4322e7730961",
     "showTitle": false,
     "title": ""
    }
   },
   "outputs": [
    {
     "output_type": "stream",
     "name": "stdout",
     "output_type": "stream",
     "text": [
      "Out[12]: '999'"
     ]
    }
   ],
   "source": [
    "max_dur=map_colsrdd.map(lambda x:x[3])\n",
    "max_dur.max()"
   ]
  },
  {
   "cell_type": "markdown",
   "metadata": {
    "application/vnd.databricks.v1+cell": {
     "cellMetadata": {},
     "inputWidgets": {},
     "nuid": "1e60227f-cf0a-4d4c-88f3-5bcae5b8f943",
     "showTitle": false,
     "title": ""
    }
   },
   "source": [
    "######13. Select only codec from map_colsrdd, convert to upper case and print distinct of it in the screen."
   ]
  },
  {
   "cell_type": "code",
   "execution_count": 0,
   "metadata": {
    "application/vnd.databricks.v1+cell": {
     "cellMetadata": {
      "byteLimit": 2048000,
      "rowLimit": 10000
     },
     "inputWidgets": {},
     "nuid": "84446db4-6d5d-4275-a86c-e1dea44f3664",
     "showTitle": false,
     "title": ""
    }
   },
   "outputs": [
    {
     "output_type": "stream",
     "name": "stdout",
     "output_type": "stream",
     "text": [
      "Out[13]: [('dHsC-AQirbU', 'Music', 'H264', '169'),\n ('l-CI-Ii6AXc', 'Music', 'H264', '236'),\n ('-hpWM-e7D6Y', 'Music', 'VP8', '45'),\n ('-hpWM-e7D6Y', 'Music', 'H264', '45'),\n ('ro9E-tjNX4A', 'Music', 'VP8', '237'),\n ('1PRB-lg6g0c', 'Music', 'VP8', '184'),\n ('VcMp-ODoTcU', 'Music', 'MPEG4', '373'),\n ('AfRc-fnNAA4', 'Music', 'H264', '143'),\n ('UrSj-ppNlEI', 'Music', 'H264', '136'),\n ('UrSj-ppNlEI', 'Music', 'VP8', '136')]"
     ]
    }
   ],
   "source": [
    "codec_upp=map_colsrdd.map(lambda x:(x[0],x[1],x[2].upper(),x[3])).distinct()\n",
    "codec_upp.take(10)\n"
   ]
  },
  {
   "cell_type": "markdown",
   "metadata": {
    "application/vnd.databricks.v1+cell": {
     "cellMetadata": {},
     "inputWidgets": {},
     "nuid": "0e272f50-6e8c-45e0-a4b0-34e93c460d47",
     "showTitle": false,
     "title": ""
    }
   },
   "source": [
    "######14. Create an rdd called filerdd_4part from file_rdd created in step1 by increasing the number of partitions to 4 (Execute this step anywhere in the code where ever appropriate)"
   ]
  },
  {
   "cell_type": "code",
   "execution_count": 0,
   "metadata": {
    "application/vnd.databricks.v1+cell": {
     "cellMetadata": {
      "byteLimit": 2048000,
      "rowLimit": 10000
     },
     "inputWidgets": {},
     "nuid": "1443030e-45a5-433c-bd7c-cd205e3629fe",
     "showTitle": false,
     "title": ""
    }
   },
   "outputs": [
    {
     "output_type": "stream",
     "name": "stdout",
     "output_type": "stream",
     "text": [
      "Out[71]: 4"
     ]
    }
   ],
   "source": [
    "dbfs_rdd.getNumPartitions()\n",
    "filerdd_4part=dbfs_rdd.repartition(4)\n",
    "filerdd_4part.getNumPartitions()"
   ]
  },
  {
   "cell_type": "markdown",
   "metadata": {
    "application/vnd.databricks.v1+cell": {
     "cellMetadata": {},
     "inputWidgets": {},
     "nuid": "bf316502-68ec-47c8-89e9-57064d049634",
     "showTitle": false,
     "title": ""
    }
   },
   "source": [
    "######15. Persist the filerdd4part data into memory and disk with replica of 2, (Execute this step anywhere in the code where ever appropriate)"
   ]
  },
  {
   "cell_type": "code",
   "execution_count": 0,
   "metadata": {
    "application/vnd.databricks.v1+cell": {
     "cellMetadata": {
      "byteLimit": 2048000,
      "rowLimit": 10000
     },
     "inputWidgets": {},
     "nuid": "e6d1f834-ad39-4ee6-a372-9d1a5cb643ee",
     "showTitle": false,
     "title": ""
    }
   },
   "outputs": [
    {
     "output_type": "stream",
     "name": "stdout",
     "output_type": "stream",
     "text": [
      "Out[73]: True"
     ]
    }
   ],
   "source": [
    "filerdd_4part.is_cached\n",
    "from pyspark.storagelevel import StorageLevel\n",
    "# Persist the RDD with MEMORY_AND_DISK_2 storage level\n",
    "filerdd_4part.persist(StorageLevel.MEMORY_AND_DISK_2)\n",
    "filerdd_4part.is_cached\n"
   ]
  },
  {
   "cell_type": "markdown",
   "metadata": {
    "application/vnd.databricks.v1+cell": {
     "cellMetadata": {},
     "inputWidgets": {},
     "nuid": "1447833a-59a1-4b1c-8e9b-493398b979d2",
     "showTitle": false,
     "title": ""
    }
   },
   "source": [
    "######16. Calculate and print the overall total, max, min duration for Comedy category"
   ]
  },
  {
   "cell_type": "code",
   "execution_count": 0,
   "metadata": {
    "application/vnd.databricks.v1+cell": {
     "cellMetadata": {
      "byteLimit": 2048000,
      "rowLimit": 10000
     },
     "inputWidgets": {},
     "nuid": "c7642d28-beef-43f3-ad83-add8e74b8b5e",
     "showTitle": false,
     "title": ""
    }
   },
   "outputs": [
    {
     "output_type": "stream",
     "name": "stdout",
     "output_type": "stream",
     "text": [
      "Out[102]: 1519049"
     ]
    }
   ],
   "source": [
    "comedy_rdd=split_rdd.filter(lambda x:'Comedy' in x[0]).map(lambda x:int(x[0][1]))\n",
    "comedy_rdd.max()#7084\n",
    "comedy_rdd.min()#2\n",
    "comedy_rdd.sum()#1519049\n",
    "\n"
   ]
  },
  {
   "cell_type": "markdown",
   "metadata": {
    "application/vnd.databricks.v1+cell": {
     "cellMetadata": {},
     "inputWidgets": {},
     "nuid": "29304993-e1e9-495d-9af9-61fd2359c724",
     "showTitle": false,
     "title": ""
    }
   },
   "source": [
    "######17. Print the codec wise count and minimum duration not by using min rather try to use reduce function function."
   ]
  },
  {
   "cell_type": "code",
   "execution_count": 0,
   "metadata": {
    "application/vnd.databricks.v1+cell": {
     "cellMetadata": {
      "byteLimit": 2048000,
      "rowLimit": 10000
     },
     "inputWidgets": {},
     "nuid": "5123076f-92ef-4909-b4e5-f180f6fa2f96",
     "showTitle": false,
     "title": ""
    }
   },
   "outputs": [
    {
     "output_type": "stream",
     "name": "stdout",
     "output_type": "stream",
     "text": [
      "Out[118]: ['10', '100', '1000', '1004', '1006', '101', '1011', '1012', '1014', '1015']"
     ]
    }
   ],
   "source": [
    "codec_cnt=map_colsrdd.map(lambda x:(x[2],1)).reduceByKey(lambda x,y:x+y)\n",
    "codec_cnt.collect()\n",
    "codec_cnt=map_colsrdd.map(lambda x:(x[2],1)).reduceByKey(lambda x,y:x+y)\n",
    "dur_cnt=map_colsrdd.map(lambda x:(x[3],1)).reduceByKey(lambda x,y:x+y).sortByKey().map(lambda x:x[0])\n",
    "dur_cnt.take(10)\n"
   ]
  },
  {
   "cell_type": "markdown",
   "metadata": {
    "application/vnd.databricks.v1+cell": {
     "cellMetadata": {},
     "inputWidgets": {},
     "nuid": "c912adc1-2046-4d41-b68b-a785f1ae38cb",
     "showTitle": false,
     "title": ""
    }
   },
   "source": [
    "######18. Print the distinct category of videos"
   ]
  },
  {
   "cell_type": "code",
   "execution_count": 0,
   "metadata": {
    "application/vnd.databricks.v1+cell": {
     "cellMetadata": {
      "byteLimit": 2048000,
      "rowLimit": 10000
     },
     "inputWidgets": {},
     "nuid": "af21989d-e573-4358-a319-701641422113",
     "showTitle": false,
     "title": ""
    }
   },
   "outputs": [
    {
     "output_type": "stream",
     "name": "stdout",
     "output_type": "stream",
     "text": [
      "Out[119]: ['Music',\n 'News & Politics',\n 'Travel & Events',\n 'Shows',\n 'Gaming',\n 'Nonprofits & Activis',\n 'Education',\n 'Autos & Vehicles',\n 'Pets & Animals',\n 'Comedy',\n 'Entertainment',\n 'Film & Animation',\n 'Science & Technology',\n 'Sports',\n 'People & Blogs',\n 'Howto & Style']"
     ]
    }
   ],
   "source": [
    "cat_dist=map_colsrdd.map(lambda x:x[1]).distinct()\n",
    "cat_dist.collect()"
   ]
  },
  {
   "cell_type": "markdown",
   "metadata": {
    "application/vnd.databricks.v1+cell": {
     "cellMetadata": {},
     "inputWidgets": {},
     "nuid": "5109c91f-b79d-424f-8f82-ec3b3d334811",
     "showTitle": false,
     "title": ""
    }
   },
   "source": [
    "######19. Print only the id, duration, height, category and width sorted by duration."
   ]
  },
  {
   "cell_type": "code",
   "execution_count": 0,
   "metadata": {
    "application/vnd.databricks.v1+cell": {
     "cellMetadata": {
      "byteLimit": 2048000,
      "rowLimit": 10000
     },
     "inputWidgets": {},
     "nuid": "e1b3beb4-ce7c-4450-9873-7100e4ba3ebc",
     "showTitle": false,
     "title": ""
    }
   },
   "outputs": [
    {
     "output_type": "stream",
     "name": "stdout",
     "output_type": "stream",
     "text": [
      "Out[108]: [('22E5-fdrPwY', '999', '512', 'Entertainment', '288'),\n ('22E5-fdrPwY', '999', '512', 'Entertainment', '288'),\n ('22E5-fdrPwY', '999', '512', 'Entertainment', '288'),\n ('22E5-fdrPwY', '999', '426', 'Entertainment', '240'),\n ('22E5-fdrPwY', '999', '176', 'Entertainment', '144'),\n ('1UY6-ekVe-A', '998', '1278', 'Gaming', '720'),\n ('1UY6-ekVe-A', '998', '1278', 'Gaming', '720'),\n ('1UY6-ekVe-A', '998', '852', 'Gaming', '480'),\n ('1UY6-ekVe-A', '998', '852', 'Gaming', '480'),\n ('1UY6-ekVe-A', '998', '640', 'Gaming', '360')]"
     ]
    }
   ],
   "source": [
    "sort_dur_asc=split_rdd.map(lambda x:(x[0][0],x[0][1],x[0][4],x[0][9],x[0][5])).sortBy(lambda x:x[1])\n",
    "sort_dur.take(10)\n",
    "sort_dur_desc=split_rdd.map(lambda x:(x[0][0],x[0][1],x[0][4],x[0][9],x[0][5])).sortBy(lambda x:x[1],False)\n",
    "sort_dur_desc.take(10)\n"
   ]
  },
  {
   "cell_type": "markdown",
   "metadata": {
    "application/vnd.databricks.v1+cell": {
     "cellMetadata": {},
     "inputWidgets": {},
     "nuid": "aa0ee1f8-43fa-474a-ad80-cc472341d276",
     "showTitle": false,
     "title": ""
    }
   },
   "source": [
    "######20. Create a python function called masking which should take the string as input and returns the hash value of the input string."
   ]
  },
  {
   "cell_type": "code",
   "execution_count": 0,
   "metadata": {
    "application/vnd.databricks.v1+cell": {
     "cellMetadata": {
      "byteLimit": 2048000,
      "rowLimit": 10000
     },
     "inputWidgets": {},
     "nuid": "00ceb7e0-c46d-4116-ac24-9ccb1bf963e8",
     "showTitle": false,
     "title": ""
    }
   },
   "outputs": [
    {
     "output_type": "stream",
     "name": "stdout",
     "output_type": "stream",
     "text": [
      "4069059738569019741\n4418353137104490830\n"
     ]
    }
   ],
   "source": [
    "def masking(x):\n",
    "    return hash(x)\n",
    "\n",
    "print(masking('Hari'))  \n",
    "print(masking('test'))  \n"
   ]
  },
  {
   "cell_type": "markdown",
   "metadata": {
    "application/vnd.databricks.v1+cell": {
     "cellMetadata": {},
     "inputWidgets": {},
     "nuid": "0f2c51a6-a002-49eb-9ae1-5419c65d15ba",
     "showTitle": false,
     "title": ""
    }
   },
   "source": [
    "######21. Call the masking function created in the above step and pass category column and get the hashed value of category."
   ]
  },
  {
   "cell_type": "code",
   "execution_count": 0,
   "metadata": {
    "application/vnd.databricks.v1+cell": {
     "cellMetadata": {
      "byteLimit": 2048000,
      "rowLimit": 10000
     },
     "inputWidgets": {},
     "nuid": "b0891259-094e-4c73-8943-8f3c6c163042",
     "showTitle": false,
     "title": ""
    }
   },
   "outputs": [
    {
     "output_type": "stream",
     "name": "stdout",
     "output_type": "stream",
     "text": [
      "Out[138]: [-1502355750469256888,\n -1502355750469256888,\n -1502355750469256888,\n -1502355750469256888,\n -1502355750469256888]"
     ]
    }
   ],
   "source": [
    "masking(sort_dur_asc.map(lambda x:x[3])) #in REPL\n",
    "hash_val=sort_dur_asc.map(lambda x:masking(x[3]))\n",
    "hash_val.take(5)"
   ]
  },
  {
   "cell_type": "markdown",
   "metadata": {
    "application/vnd.databricks.v1+cell": {
     "cellMetadata": {},
     "inputWidgets": {},
     "nuid": "6051fea1-8ca6-41d1-813c-42733aa65e74",
     "showTitle": false,
     "title": ""
    }
   },
   "source": [
    "######22. Store the step 18 result in a dbfs location in a single file with data delimited as | with the id, duration, height, masking(category) and width columns."
   ]
  },
  {
   "cell_type": "code",
   "execution_count": 0,
   "metadata": {
    "application/vnd.databricks.v1+cell": {
     "cellMetadata": {
      "byteLimit": 2048000,
      "rowLimit": 10000
     },
     "inputWidgets": {},
     "nuid": "d2a13b12-9549-4e66-9013-cd8baa534d87",
     "showTitle": false,
     "title": ""
    }
   },
   "outputs": [],
   "source": [
    "to_fin=split_rdd.map(lambda x:(x[0][0],x[0][1],x[0][4],x[0][9],x[0][5])).sortBy(lambda x:x[1])\n",
    "final_cols=to_fin.map(lambda x:(x[0],x[1],x[2],x[4]))\n",
    "hash_val=sort_dur_asc.map(lambda x:masking(x[3]))\n",
    "jo=final_cols.zip(hash_val)\n",
    "jo.first()\n",
    "final=jo.map(lambda x:(x[0][0],x[0][1],x[1],x[0][2],x[0][3]))\n",
    "final.first()\n",
    "result=final.map(lambda x: '|'.join(map(str, x)))\n",
    "result.coalesce(1).saveAsTextFile(\"dbfs:/FileStore/Hari/workout/\")"
   ]
  },
  {
   "cell_type": "code",
   "execution_count": 0,
   "metadata": {
    "application/vnd.databricks.v1+cell": {
     "cellMetadata": {
      "byteLimit": 2048000,
      "rowLimit": 10000
     },
     "inputWidgets": {},
     "nuid": "767e2a71-a852-4f0b-83f6-ba874121952e",
     "showTitle": false,
     "title": ""
    }
   },
   "outputs": [
    {
     "output_type": "stream",
     "name": "stdout",
     "output_type": "stream",
     "text": [
      "Out[147]: ['mr9y-OljTv0|1|-1502355750469256888|1920|1080']"
     ]
    }
   ],
   "source": [
    "file=sc.textFile(\"dbfs:/FileStore/Hari/workout/part-00000\")\n",
    "file.take(1)"
   ]
  }
 ],
 "metadata": {
  "application/vnd.databricks.v1+notebook": {
   "dashboards": [],
   "environmentMetadata": null,
   "language": "python",
   "notebookMetadata": {
    "pythonIndentUnit": 4
   },
   "notebookName": "2_PySparkCore_Scenarios",
   "widgets": {}
  }
 },
 "nbformat": 4,
 "nbformat_minor": 0
}
